{
 "metadata": {
  "language_info": {
   "codemirror_mode": {
    "name": "ipython",
    "version": 3
   },
   "file_extension": ".py",
   "mimetype": "text/x-python",
   "name": "python",
   "nbconvert_exporter": "python",
   "pygments_lexer": "ipython3",
   "version": "3.8.5"
  },
  "orig_nbformat": 2,
  "kernelspec": {
   "name": "python3",
   "display_name": "Python 3.8.5 64-bit ('base': conda)"
  },
  "interpreter": {
   "hash": "73e03da126b73bfff3642ec5261d56fa25c444ea595de51041687efaa60dda41"
  }
 },
 "nbformat": 4,
 "nbformat_minor": 2,
 "cells": [
  {
   "cell_type": "code",
   "execution_count": 3,
   "metadata": {},
   "outputs": [
    {
     "output_type": "execute_result",
     "data": {
      "text/plain": [
       "[\"Let's\", 'take', 'LeetCode', 'contest']"
      ]
     },
     "metadata": {},
     "execution_count": 3
    }
   ],
   "source": [
    "\"Let's take LeetCode contest\".split(' ')"
   ]
  },
  {
   "cell_type": "code",
   "execution_count": 7,
   "metadata": {},
   "outputs": [
    {
     "output_type": "stream",
     "name": "stdout",
     "text": [
      "1\n2\n3\n4\n5\n6\n[0, 2, 5, 6, 8, 12, 15]\n"
     ]
    }
   ],
   "source": [
    "nums = [2, 3, 1, 2, 4, 3]\n",
    "sums = [0] * (len(nums) + 1)\n",
    "n = 6\n",
    "for i in range(1, n+1):\n",
    "    print(i)\n",
    "    sums[i] = sums[i-1] + nums[i-1]\n",
    "\n",
    "print(sums)\n"
   ]
  },
  {
   "cell_type": "code",
   "execution_count": null,
   "metadata": {},
   "outputs": [],
   "source": []
  },
  {
   "cell_type": "code",
   "execution_count": 3,
   "metadata": {},
   "outputs": [
    {
     "output_type": "execute_result",
     "data": {
      "text/plain": [
       "['1', '2', '1', '2', '3', '1', '2', '1', '1', '2']"
      ]
     },
     "metadata": {},
     "execution_count": 3
    }
   ],
   "source": [
    "a = input().split()\n",
    "a"
   ]
  },
  {
   "cell_type": "code",
   "execution_count": 5,
   "metadata": {},
   "outputs": [
    {
     "output_type": "execute_result",
     "data": {
      "text/plain": [
       "['1', '2', '3', '\\n']"
      ]
     },
     "metadata": {},
     "execution_count": 5
    }
   ],
   "source": [
    "a = \"1 2 3 \\n\"\n",
    "a.split(\" \")"
   ]
  },
  {
   "cell_type": "code",
   "execution_count": null,
   "metadata": {},
   "outputs": [],
   "source": [
    "while True:\n",
    "    temp=input()\n",
    "    if temp!='':\n",
    "        # 第一行：n, m的取值 \n",
    "        n,m=list(map(int,temp.split()))         #价签数量和购买的物品数量\n",
    "        # 第二行：价格\n",
    "        price=list(map(int,input().split()))       #价签对应的价格\n",
    "        # 第三- 后来的行：要买的商品\n",
    "        lst = []                                   #存放购买的物品清单，可能会有重复的物品\n",
    "        for i in range(m):\n",
    "            lst.append(input())\n",
    "\n",
    "        # 处理空行，测试中的\n",
    "        for item in lst:   #此处是个坑，测试样例中含空行，如果不删除空行的话，正确率永远80%\n",
    "            if item=='':\n",
    "                lst.remove(item)\n",
    "\n",
    "        # 正式程序：\n",
    "        min,max = 0, 0  \n",
    "        num = []\n",
    "        for item in set(lst): #统计每件物品购买的次数\n",
    "            num.append(lst.count(item))  \n",
    "        price_asc = sorted(price)\n",
    "        price_des = sorted(price,reverse=True) #价签降升序/降序排序\n",
    "        num_des = sorted(num,reverse=True) #购买物品次数的降序排列\n",
    "    \n",
    "        for j, item in enumerate(num_des):\n",
    "            for i in range(item): \n",
    "                min = min+price_asc[j]\n",
    "                max = max+price_des[j]      \n",
    "        print(min,max)"
   ]
  },
  {
   "cell_type": "code",
   "execution_count": 5,
   "metadata": {},
   "outputs": [
    {
     "output_type": "execute_result",
     "data": {
      "text/plain": [
       "[[1, 2], [2, 3], [2, 5]]"
      ]
     },
     "metadata": {},
     "execution_count": 5
    }
   ],
   "source": [
    "res = [[1, 2], [2, 5], [2, 3]]\n",
    "sorted(res)"
   ]
  },
  {
   "cell_type": "code",
   "execution_count": null,
   "metadata": {},
   "outputs": [],
   "source": [
    "5 3\n",
    "4 2 1 10 5\n",
    "apple\n",
    "orange\n",
    "mango\n",
    "6 5\n",
    "3 5 1 6 8 1\n",
    "peach\n",
    "grapefruit\n",
    "banana\n",
    "orange\n",
    "orange"
   ]
  },
  {
   "cell_type": "code",
   "execution_count": null,
   "metadata": {},
   "outputs": [],
   "source": [
    "while True:\n",
    "    temp=input()\n",
    "    if temp!='':\n",
    "        # n, m\n",
    "        n,m=list(map(int,temp.split()))         #价签数量和购买的物品数量\n",
    "        price=list(map(int,input().split()))       #价签对应的价格\n",
    "        lst = []                                   #存放购买的物品清单，可能会有重复的物品\n",
    "        for i in range(m):\n",
    "            lst.append(input())\n",
    "    \n",
    "        for item in lst:   #此处是个坑，测试样例中含空行，如果不删除空行的话，正确率永远80%\n",
    "            if item=='':\n",
    "                lst.remove(item)\n",
    "\n",
    "        min,max = 0, 0  \n",
    "        num = []\n",
    "        for itme in set(lst): #统计每件物品购买的次数\n",
    "            num.append(lst.count(itme))  \n",
    "        price_asc = sorted(price)\n",
    "        price_des = sorted(price,reverse=True) #价签降升序/降序排序\n",
    "        num_des = sorted(num,reverse=True) #购买物品次数的降序排列\n",
    "    \n",
    "        for j, item in enumerate(num_des):\n",
    "            for i in range(item): \n",
    "                min = min+price_asc[j]\n",
    "                max = max+price_des[j]      \n",
    "        print(min,max)"
   ]
  },
  {
   "cell_type": "code",
   "execution_count": null,
   "metadata": {},
   "outputs": [],
   "source": [
    "while 1:\n",
    "\tnm = input()\n",
    "\tif nm != '':\n",
    "        # n, m\n",
    "\t\tn,m = map(int,nm.split())\n",
    "        # 第二行表示价格\n",
    "\t\tprice = list(map(int,input().split()))\n",
    "        # 查看需要购买的\n",
    "\t\tstore = dict()\n",
    "\t\tfor p in range(m):\n",
    "            # 代表输入的某一行\n",
    "\t\t\tname = input()\n",
    "\t\t\tif name in store.keys():\n",
    "\t\t\t\tstore[name]+=1\n",
    "\t\t\telse:\n",
    "\t\t\t\tstore[name]=1\n",
    "\t\tprice = sorted(price)\n",
    "\t\tcount = (sorted(store.values()))\n",
    "\t\tminv=0\n",
    "\t\tmaxv=0\n",
    "\t\tl = len(count)\n",
    "\t\tfor i in range(l):\n",
    "\t\t\tmaxv += count[i]*price[-l+i]\n",
    "\t\t\tminv += count[-i-1]*price[i]\n",
    "\t\tprint(minv,maxv)"
   ]
  },
  {
   "cell_type": "code",
   "execution_count": null,
   "metadata": {},
   "outputs": [],
   "source": [
    "while 1:\n",
    "    # 第一行，说明有多少数据\n",
    "\tN,M = map(int,input().split())\n",
    "\tres = []\n",
    "\tfor i in range(M):\n",
    "\t\ta,b,c = map(int,input().split())\n",
    "\t\tif c == 1:\n",
    "\t\t\tr = [a,b] if a<b else [b,a]\n",
    "\t\t\tres.append(r)\n",
    "\ts = set()\n",
    "\ts.add(1)\n",
    "\tres.sort()\n",
    "\tfor i in res:\n",
    "\t\tif i[0] in s:\n",
    "\t\t\ts.add(i[1])\n",
    "\tprint(len(s)-1)"
   ]
  },
  {
   "source": [
    "# 京东 2021.5.8 开心宵宵乐"
   ],
   "cell_type": "markdown",
   "metadata": {}
  },
  {
   "cell_type": "code",
   "execution_count": null,
   "metadata": {},
   "outputs": [],
   "source": [
    "def get_score(nums, n, k, H):\n",
    "    gallery = []\n",
    "    score = 0\n",
    "    for i, num in enumerate(nums):\n",
    "        gallery.append(num)\n",
    "        if len(gallery) > k:\n",
    "            if len(set(gallery[-k:])) == 0:\n",
    "                score += 1\n",
    "                del gallery[-k:]\n",
    "        if len(gallery) > H:\n",
    "            return score\n",
    "i = 0\n",
    "while 1:\n",
    "    myin = list(map(int,input().split(\" \")))\n",
    "    for i, li in enumerate(myin):\n",
    "        if i == 0:\n",
    "            n, k, H = li\n",
    "            continue\n",
    "        que = li \n",
    "    print(get_score(que, n, k, H))\n",
    "\n",
    "\n",
    "while 1:\n",
    "    myin = input().split(\"\\n\")\n",
    "    for i, li in myin:\n",
    "        if i == 0:\n",
    "            n, k, H = list(map(int,li))\n",
    "            continue\n",
    "        que = list(map(int,li))\n",
    "\n",
    "    print(get_score(que, n, k, H))\n",
    "\n",
    "while 1:\n",
    "    n, k, H = list(map(int, input().split()))\n",
    "    que = list(map(int, input().split()))\n",
    "    \n",
    "    print(get_score(que, n, k, H))"
   ]
  },
  {
   "source": [
    "# 小A完成作业"
   ],
   "cell_type": "markdown",
   "metadata": {}
  },
  {
   "cell_type": "code",
   "execution_count": null,
   "metadata": {},
   "outputs": [],
   "source": [
    "while 1:\n",
    "    n = list(map(int, input.split()))\n",
    "    work = list(map(int, input.split()))\n",
    "    # 先找出大的，要是玩完成作业肯定是从大的来找\n",
    "    # 再找出在间隔内完成作业比较多的那些天\n",
    "    # 猜想是先找局部最优，再找全局最优\n",
    "    done = []\n",
    "    for i in range(work):\n",
    "        pass\n",
    "\n",
    "def get_max(nums):\n",
    "    if len(nums) < 2:\n",
    "        return nums "
   ]
  },
  {
   "cell_type": "code",
   "execution_count": null,
   "metadata": {},
   "outputs": [],
   "source": [
    "import sys\n",
    "if __name__ == \"__main__\":\n",
    "    # 读取第一行的n\n",
    "    n = int(sys.stdin.readline().strip())\n",
    "    ask = []\n",
    "    for i in range(n):\n",
    "        # 读取每一行\n",
    "        line = sys.stdin.readline().strip()\n",
    "        # 把每一行的数字分隔后转化成int列表\n",
    "        values = list(map(int, line.split()))\n",
    "        if i == 0:\n",
    "            n, m = values\n",
    "        elif i ==1:\n",
    "            weights = values\n",
    "        else:\n",
    "            ask.append(values[0])\n",
    "\n",
    "    weights.sort()\n",
    "\n",
    "    def diff(li):\n",
    "        n = len(li)\n",
    "        diff_li = [0] * (n-1)\n",
    "        for i in range(n-1):\n",
    "            diff_li[i] = li[i+1] - li[i]\n",
    "        return diff_li\n",
    "\n",
    "    # 再找出来把这些数相加，看看能否得到爷爷要的数\n",
    "    ws_diff = diff(weights)\n",
    "\n",
    "    for val in ask:\n",
    "        if val > max(ws_diff):\n",
    "            print(-1, -1)\n",
    "        else:\n",
    "            # 我想找到这其中是否有连续的值相加可以使得这个值\n",
    "            # 等于爷爷给的数\n",
    "            print(weights[0], weights[1])\n",
    "\n",
    "import sys \n",
    "i = 0\n",
    "ask = []\n",
    "for line in sys.stdin:\n",
    "    values = list(map(int, line.split()))\n",
    "    if i == 0:\n",
    "        n, m = values\n",
    "    elif i == 1:\n",
    "        weights = values\n",
    "    else:\n",
    "        ask.append(values[0])\n",
    "    i += 1\n",
    "\n",
    "tmp = weights\n",
    "tmp.sort()\n",
    "\n",
    "def diff(li):\n",
    "    n = len(li)\n",
    "    diff_li = [0] * (n-1)\n",
    "    for i in range(n-1):\n",
    "        diff_li[i] = li[i+1] - li[i]\n",
    "    return diff_li\n",
    "\n",
    "def find_val(li, k):\n",
    "    if k > sum(li):\n",
    "        print(-1, -1)\n",
    "    else:\n",
    "        # 我想这里应该是贪心算法\n",
    "        # 首先找到最大的那个值，\n",
    "        \n",
    "\n",
    "    "
   ]
  },
  {
   "cell_type": "code",
   "execution_count": 23,
   "metadata": {},
   "outputs": [
    {
     "output_type": "execute_result",
     "data": {
      "text/plain": [
       "2.8284271247461903"
      ]
     },
     "metadata": {},
     "execution_count": 23
    }
   ],
   "source": [
    "import sys \n",
    "i = 0\n",
    "ask = []\n",
    "import math\n",
    "def dis(li1, li2):\n",
    "    return math.sqrt(sum([(val1-val2)**2 for val1, val2 in zip(li1, li2)]))\n",
    "\n",
    "# 计算直线与圆的交点\n",
    "\n",
    "for line in sys.stdin:\n",
    "    values = list(map(int, line.split()))\n",
    "    R1, X1, Y1, X3, Y3 = values\n",
    "    # 首先计算喷管其到(X3, Y3)的距离\n",
    "    \n"
   ]
  },
  {
   "cell_type": "code",
   "execution_count": 61,
   "metadata": {},
   "outputs": [
    {
     "output_type": "stream",
     "name": "stdout",
     "text": [
      "0.5714285714285714\n2.285714\n"
     ]
    }
   ],
   "source": [
    "# import sys \n",
    "# shoes = []\n",
    "# for line in sys.stdin:\n",
    "#     values = list(map(int, line.split()))\n",
    "#     shoes.append(values[0])\n",
    "\n",
    "# def expect(shoe):\n",
    "#     if shoe == 1:\n",
    "#         print shoe\n",
    "#     else:\n",
    "\n",
    "# for shoe in shoes:\n",
    "    \n",
    "\n",
    "\n",
    "def jc(n):\n",
    "    if n == 1:\n",
    "        return 1\n",
    "    else:\n",
    "        return n * jc(n-1)\n",
    "\n",
    "\n",
    "def cc(m, n):\n",
    "    # print('what', jc(n) / (jc(m) * jc(n-m)))\n",
    "    return jc(n) / (jc(m) * jc(n-m))\n",
    "\n",
    "def expect(shoe):\n",
    "    if shoe == 1:\n",
    "        print(shoe)\n",
    "    else:\n",
    "        prob = 1 - 2 * cc(2, shoe) / cc(2, 2 * shoe)\n",
    "        print(prob)\n",
    "        print('%.6f'%(prob * shoe))\n",
    "expect(4)\n"
   ]
  },
  {
   "cell_type": "code",
   "execution_count": 33,
   "metadata": {},
   "outputs": [
    {
     "output_type": "stream",
     "name": "stdout",
     "text": [
      "7\n2\n"
     ]
    },
    {
     "output_type": "execute_result",
     "data": {
      "text/plain": [
       "(0, 1)"
      ]
     },
     "metadata": {},
     "execution_count": 33
    }
   ],
   "source": [
    "a = {i:i for i in range(3)}\n",
    "def twoSum(nums, target):\n",
    "    d = dict()\n",
    "    for i, v in enumerate(nums):\n",
    "        tmp = target - v\n",
    "        print(tmp)\n",
    "        if d.get(tmp) is not None:\n",
    "            return d[tmp], i\n",
    "        else:\n",
    "            # print(v)\n",
    "            d[v] = i\n",
    "    return -1, -1\n",
    "twoSum([2,7,11,15], 9)"
   ]
  },
  {
   "cell_type": "code",
   "execution_count": 37,
   "metadata": {},
   "outputs": [
    {
     "output_type": "execute_result",
     "data": {
      "text/plain": [
       "2"
      ]
     },
     "metadata": {},
     "execution_count": 37
    }
   ],
   "source": [
    "2 % 1000"
   ]
  },
  {
   "cell_type": "code",
   "execution_count": null,
   "metadata": {},
   "outputs": [],
   "source": []
  }
 ]
}