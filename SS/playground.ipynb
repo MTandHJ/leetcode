{
 "metadata": {
  "language_info": {
   "codemirror_mode": {
    "name": "ipython",
    "version": 3
   },
   "file_extension": ".py",
   "mimetype": "text/x-python",
   "name": "python",
   "nbconvert_exporter": "python",
   "pygments_lexer": "ipython3",
   "version": "3.8.5"
  },
  "orig_nbformat": 2,
  "kernelspec": {
   "name": "python385jvsc74a57bd073e03da126b73bfff3642ec5261d56fa25c444ea595de51041687efaa60dda41",
   "display_name": "Python 3.8.5 64-bit ('base': conda)"
  }
 },
 "nbformat": 4,
 "nbformat_minor": 2,
 "cells": [
  {
   "cell_type": "code",
   "execution_count": null,
   "metadata": {},
   "outputs": [],
   "source": [
    "import sys\n",
    "if __name__ == \"__main__\":\n",
    "    # 读取第一行的n\n",
    "    n = int(sys.stdin.readline().strip())\n",
    "    ask = []\n",
    "    for i in range(n):\n",
    "        # 读取每一行\n",
    "        line = sys.stdin.readline().strip()\n",
    "        # 把每一行的数字分隔后转化成int列表\n",
    "        values = list(map(int, line.split()))\n",
    "        if i == 0:\n",
    "            n, m = values\n",
    "        elif i ==1:\n",
    "            weights = values\n",
    "        else:\n",
    "            ask.append(values[0])\n",
    "\n",
    "    weights.sort()\n",
    "\n",
    "    def diff(li):\n",
    "        n = len(li)\n",
    "        diff_li = [0] * (n-1)\n",
    "        for i in range(n-1):\n",
    "            diff_li[i] = li[i+1] - li[i]\n",
    "        return diff_li\n",
    "\n",
    "    # 再找出来把这些数相加，看看能否得到爷爷要的数\n",
    "    ws_diff = diff(weights)\n",
    "\n",
    "    for val in ask:\n",
    "        if val > max(ws_diff):\n",
    "            print(-1, -1)\n",
    "        else:\n",
    "            # 我想找到这其中是否有连续的值相加可以使得这个值\n",
    "            # 等于爷爷给的数\n",
    "            print(weights[0], weights[1])\n",
    "\n",
    "import sys \n",
    "i = 0\n",
    "ask = []\n",
    "for line in sys.stdin:\n",
    "    values = list(map(int, line.split()))\n",
    "    if i == 0:\n",
    "        n, m = values\n",
    "    elif i == 1:\n",
    "        weights = values\n",
    "    else:\n",
    "        ask.append(values[0])\n",
    "    i += 1\n",
    "\n",
    "tmp = weights\n",
    "tmp.sort()\n",
    "\n",
    "def diff(li):\n",
    "    n = len(li)\n",
    "    diff_li = [0] * (n-1)\n",
    "    for i in range(n-1):\n",
    "        diff_li[i] = li[i+1] - li[i]\n",
    "    return diff_li\n",
    "\n",
    "def find_val(li, k):\n",
    "    if k > sum(li):\n",
    "        print(-1, -1)\n",
    "    else:\n",
    "        # 我想这里应该是贪心算法\n",
    "        # 首先找到最大的那个值，\n",
    "        \n",
    "\n",
    "    "
   ]
  },
  {
   "cell_type": "code",
   "execution_count": 23,
   "metadata": {},
   "outputs": [
    {
     "output_type": "execute_result",
     "data": {
      "text/plain": [
       "2.8284271247461903"
      ]
     },
     "metadata": {},
     "execution_count": 23
    }
   ],
   "source": [
    "import sys \n",
    "i = 0\n",
    "ask = []\n",
    "import math\n",
    "def dis(li1, li2):\n",
    "    return math.sqrt(sum([(val1-val2)**2 for val1, val2 in zip(li1, li2)]))\n",
    "\n",
    "# 计算直线与圆的交点\n",
    "\n",
    "for line in sys.stdin:\n",
    "    values = list(map(int, line.split()))\n",
    "    R1, X1, Y1, X3, Y3 = values\n",
    "    # 首先计算喷管其到(X3, Y3)的距离\n",
    "    \n"
   ]
  },
  {
   "cell_type": "code",
   "execution_count": 61,
   "metadata": {},
   "outputs": [
    {
     "output_type": "stream",
     "name": "stdout",
     "text": [
      "0.5714285714285714\n2.285714\n"
     ]
    }
   ],
   "source": [
    "# import sys \n",
    "# shoes = []\n",
    "# for line in sys.stdin:\n",
    "#     values = list(map(int, line.split()))\n",
    "#     shoes.append(values[0])\n",
    "\n",
    "# def expect(shoe):\n",
    "#     if shoe == 1:\n",
    "#         print shoe\n",
    "#     else:\n",
    "\n",
    "# for shoe in shoes:\n",
    "    \n",
    "\n",
    "\n",
    "def jc(n):\n",
    "    if n == 1:\n",
    "        return 1\n",
    "    else:\n",
    "        return n * jc(n-1)\n",
    "\n",
    "\n",
    "def cc(m, n):\n",
    "    # print('what', jc(n) / (jc(m) * jc(n-m)))\n",
    "    return jc(n) / (jc(m) * jc(n-m))\n",
    "\n",
    "def expect(shoe):\n",
    "    if shoe == 1:\n",
    "        print(shoe)\n",
    "    else:\n",
    "        prob = 1 - 2 * cc(2, shoe) / cc(2, 2 * shoe)\n",
    "        print(prob)\n",
    "        print('%.6f'%(prob * shoe))\n",
    "expect(4)\n"
   ]
  }
 ]
}