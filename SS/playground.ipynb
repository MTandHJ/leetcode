{
 "metadata": {
  "language_info": {
   "codemirror_mode": {
    "name": "ipython",
    "version": 3
   },
   "file_extension": ".py",
   "mimetype": "text/x-python",
   "name": "python",
   "nbconvert_exporter": "python",
   "pygments_lexer": "ipython3",
   "version": "3.8.5"
  },
  "orig_nbformat": 2,
  "kernelspec": {
   "name": "python3",
   "display_name": "Python 3.8.5 64-bit ('base': conda)"
  },
  "interpreter": {
   "hash": "73e03da126b73bfff3642ec5261d56fa25c444ea595de51041687efaa60dda41"
  }
 },
 "nbformat": 4,
 "nbformat_minor": 2,
 "cells": [
  {
   "cell_type": "code",
   "execution_count": 3,
   "source": [
    "\"Let's take LeetCode contest\".split(' ')"
   ],
   "outputs": [
    {
     "output_type": "execute_result",
     "data": {
      "text/plain": [
       "[\"Let's\", 'take', 'LeetCode', 'contest']"
      ]
     },
     "metadata": {},
     "execution_count": 3
    }
   ],
   "metadata": {}
  },
  {
   "cell_type": "code",
   "execution_count": 7,
   "source": [
    "nums = [2, 3, 1, 2, 4, 3]\r\n",
    "sums = [0] * (len(nums) + 1)\r\n",
    "n = 6\r\n",
    "for i in range(1, n+1):\r\n",
    "    print(i)\r\n",
    "    sums[i] = sums[i-1] + nums[i-1]\r\n",
    "\r\n",
    "print(sums)\r\n"
   ],
   "outputs": [
    {
     "output_type": "stream",
     "name": "stdout",
     "text": [
      "1\n",
      "2\n",
      "3\n",
      "4\n",
      "5\n",
      "6\n",
      "[0, 2, 5, 6, 8, 12, 15]\n"
     ]
    }
   ],
   "metadata": {}
  },
  {
   "cell_type": "code",
   "execution_count": null,
   "source": [],
   "outputs": [],
   "metadata": {}
  },
  {
   "cell_type": "code",
   "execution_count": 3,
   "source": [
    "a = input().split()\r\n",
    "a"
   ],
   "outputs": [
    {
     "output_type": "execute_result",
     "data": {
      "text/plain": [
       "['1', '2', '1', '2', '3', '1', '2', '1', '1', '2']"
      ]
     },
     "metadata": {},
     "execution_count": 3
    }
   ],
   "metadata": {}
  },
  {
   "cell_type": "code",
   "execution_count": 5,
   "source": [
    "a = \"1 2 3 \\n\"\r\n",
    "a.split(\" \")"
   ],
   "outputs": [
    {
     "output_type": "execute_result",
     "data": {
      "text/plain": [
       "['1', '2', '3', '\\n']"
      ]
     },
     "metadata": {},
     "execution_count": 5
    }
   ],
   "metadata": {}
  },
  {
   "cell_type": "code",
   "execution_count": null,
   "source": [
    "while True:\r\n",
    "    temp=input()\r\n",
    "    if temp!='':\r\n",
    "        # 第一行：n, m的取值 \r\n",
    "        n,m=list(map(int,temp.split()))         #价签数量和购买的物品数量\r\n",
    "        # 第二行：价格\r\n",
    "        price=list(map(int,input().split()))       #价签对应的价格\r\n",
    "        # 第三- 后来的行：要买的商品\r\n",
    "        lst = []                                   #存放购买的物品清单，可能会有重复的物品\r\n",
    "        for i in range(m):\r\n",
    "            lst.append(input())\r\n",
    "\r\n",
    "        # 处理空行，测试中的\r\n",
    "        for item in lst:   #此处是个坑，测试样例中含空行，如果不删除空行的话，正确率永远80%\r\n",
    "            if item=='':\r\n",
    "                lst.remove(item)\r\n",
    "\r\n",
    "        # 正式程序：\r\n",
    "        min,max = 0, 0  \r\n",
    "        num = []\r\n",
    "        for item in set(lst): #统计每件物品购买的次数\r\n",
    "            num.append(lst.count(item))  \r\n",
    "        price_asc = sorted(price)\r\n",
    "        price_des = sorted(price,reverse=True) #价签降升序/降序排序\r\n",
    "        num_des = sorted(num,reverse=True) #购买物品次数的降序排列\r\n",
    "    \r\n",
    "        for j, item in enumerate(num_des):\r\n",
    "            for i in range(item): \r\n",
    "                min = min+price_asc[j]\r\n",
    "                max = max+price_des[j]      \r\n",
    "        print(min,max)"
   ],
   "outputs": [],
   "metadata": {}
  },
  {
   "cell_type": "code",
   "execution_count": 5,
   "source": [
    "res = [[1, 2], [2, 5], [2, 3]]\r\n",
    "sorted(res)"
   ],
   "outputs": [
    {
     "output_type": "execute_result",
     "data": {
      "text/plain": [
       "[[1, 2], [2, 3], [2, 5]]"
      ]
     },
     "metadata": {},
     "execution_count": 5
    }
   ],
   "metadata": {}
  },
  {
   "cell_type": "code",
   "execution_count": null,
   "source": [
    "5 3\r\n",
    "4 2 1 10 5\r\n",
    "apple\r\n",
    "orange\r\n",
    "mango\r\n",
    "6 5\r\n",
    "3 5 1 6 8 1\r\n",
    "peach\r\n",
    "grapefruit\r\n",
    "banana\r\n",
    "orange\r\n",
    "orange"
   ],
   "outputs": [],
   "metadata": {}
  },
  {
   "cell_type": "code",
   "execution_count": null,
   "source": [
    "while True:\r\n",
    "    temp=input()\r\n",
    "    if temp!='':\r\n",
    "        # n, m\r\n",
    "        n,m=list(map(int,temp.split()))         #价签数量和购买的物品数量\r\n",
    "        price=list(map(int,input().split()))       #价签对应的价格\r\n",
    "        lst = []                                   #存放购买的物品清单，可能会有重复的物品\r\n",
    "        for i in range(m):\r\n",
    "            lst.append(input())\r\n",
    "    \r\n",
    "        for item in lst:   #此处是个坑，测试样例中含空行，如果不删除空行的话，正确率永远80%\r\n",
    "            if item=='':\r\n",
    "                lst.remove(item)\r\n",
    "\r\n",
    "        min,max = 0, 0  \r\n",
    "        num = []\r\n",
    "        for itme in set(lst): #统计每件物品购买的次数\r\n",
    "            num.append(lst.count(itme))  \r\n",
    "        price_asc = sorted(price)\r\n",
    "        price_des = sorted(price,reverse=True) #价签降升序/降序排序\r\n",
    "        num_des = sorted(num,reverse=True) #购买物品次数的降序排列\r\n",
    "    \r\n",
    "        for j, item in enumerate(num_des):\r\n",
    "            for i in range(item): \r\n",
    "                min = min+price_asc[j]\r\n",
    "                max = max+price_des[j]      \r\n",
    "        print(min,max)"
   ],
   "outputs": [],
   "metadata": {}
  },
  {
   "cell_type": "code",
   "execution_count": null,
   "source": [
    "while 1:\r\n",
    "\tnm = input()\r\n",
    "\tif nm != '':\r\n",
    "        # n, m\r\n",
    "\t\tn,m = map(int,nm.split())\r\n",
    "        # 第二行表示价格\r\n",
    "\t\tprice = list(map(int,input().split()))\r\n",
    "        # 查看需要购买的\r\n",
    "\t\tstore = dict()\r\n",
    "\t\tfor p in range(m):\r\n",
    "            # 代表输入的某一行\r\n",
    "\t\t\tname = input()\r\n",
    "\t\t\tif name in store.keys():\r\n",
    "\t\t\t\tstore[name]+=1\r\n",
    "\t\t\telse:\r\n",
    "\t\t\t\tstore[name]=1\r\n",
    "\t\tprice = sorted(price)\r\n",
    "\t\tcount = (sorted(store.values()))\r\n",
    "\t\tminv=0\r\n",
    "\t\tmaxv=0\r\n",
    "\t\tl = len(count)\r\n",
    "\t\tfor i in range(l):\r\n",
    "\t\t\tmaxv += count[i]*price[-l+i]\r\n",
    "\t\t\tminv += count[-i-1]*price[i]\r\n",
    "\t\tprint(minv,maxv)"
   ],
   "outputs": [],
   "metadata": {}
  },
  {
   "cell_type": "code",
   "execution_count": null,
   "source": [
    "while 1:\r\n",
    "    # 第一行，说明有多少数据\r\n",
    "\tN,M = map(int,input().split())\r\n",
    "\tres = []\r\n",
    "\tfor i in range(M):\r\n",
    "\t\ta,b,c = map(int,input().split())\r\n",
    "\t\tif c == 1:\r\n",
    "\t\t\tr = [a,b] if a<b else [b,a]\r\n",
    "\t\t\tres.append(r)\r\n",
    "\ts = set()\r\n",
    "\ts.add(1)\r\n",
    "\tres.sort()\r\n",
    "\tfor i in res:\r\n",
    "\t\tif i[0] in s:\r\n",
    "\t\t\ts.add(i[1])\r\n",
    "\tprint(len(s)-1)"
   ],
   "outputs": [],
   "metadata": {}
  },
  {
   "cell_type": "markdown",
   "source": [
    "# 京东 2021.5.8 开心宵宵乐"
   ],
   "metadata": {}
  },
  {
   "cell_type": "code",
   "execution_count": null,
   "source": [
    "def get_score(nums, n, k, H):\r\n",
    "    gallery = []\r\n",
    "    score = 0\r\n",
    "    for i, num in enumerate(nums):\r\n",
    "        gallery.append(num)\r\n",
    "        if len(gallery) > k:\r\n",
    "            if len(set(gallery[-k:])) == 0:\r\n",
    "                score += 1\r\n",
    "                del gallery[-k:]\r\n",
    "        if len(gallery) > H:\r\n",
    "            return score\r\n",
    "i = 0\r\n",
    "while 1:\r\n",
    "    myin = list(map(int,input().split(\" \")))\r\n",
    "    for i, li in enumerate(myin):\r\n",
    "        if i == 0:\r\n",
    "            n, k, H = li\r\n",
    "            continue\r\n",
    "        que = li \r\n",
    "    print(get_score(que, n, k, H))\r\n",
    "\r\n",
    "\r\n",
    "while 1:\r\n",
    "    myin = input().split(\"\\n\")\r\n",
    "    for i, li in myin:\r\n",
    "        if i == 0:\r\n",
    "            n, k, H = list(map(int,li))\r\n",
    "            continue\r\n",
    "        que = list(map(int,li))\r\n",
    "\r\n",
    "    print(get_score(que, n, k, H))\r\n",
    "\r\n",
    "while 1:\r\n",
    "    n, k, H = list(map(int, input().split()))\r\n",
    "    que = list(map(int, input().split()))\r\n",
    "    \r\n",
    "    print(get_score(que, n, k, H))"
   ],
   "outputs": [],
   "metadata": {}
  },
  {
   "cell_type": "markdown",
   "source": [
    "# 小A完成作业"
   ],
   "metadata": {}
  },
  {
   "cell_type": "code",
   "execution_count": null,
   "source": [
    "while 1:\r\n",
    "    n = list(map(int, input.split()))\r\n",
    "    work = list(map(int, input.split()))\r\n",
    "    # 先找出大的，要是玩完成作业肯定是从大的来找\r\n",
    "    # 再找出在间隔内完成作业比较多的那些天\r\n",
    "    # 猜想是先找局部最优，再找全局最优\r\n",
    "    done = []\r\n",
    "    for i in range(work):\r\n",
    "        pass\r\n",
    "\r\n",
    "def get_max(nums):\r\n",
    "    if len(nums) < 2:\r\n",
    "        return nums "
   ],
   "outputs": [],
   "metadata": {}
  },
  {
   "cell_type": "code",
   "execution_count": null,
   "source": [
    "import sys\r\n",
    "if __name__ == \"__main__\":\r\n",
    "    # 读取第一行的n\r\n",
    "    n = int(sys.stdin.readline().strip())\r\n",
    "    ask = []\r\n",
    "    for i in range(n):\r\n",
    "        # 读取每一行\r\n",
    "        line = sys.stdin.readline().strip()\r\n",
    "        # 把每一行的数字分隔后转化成int列表\r\n",
    "        values = list(map(int, line.split()))\r\n",
    "        if i == 0:\r\n",
    "            n, m = values\r\n",
    "        elif i ==1:\r\n",
    "            weights = values\r\n",
    "        else:\r\n",
    "            ask.append(values[0])\r\n",
    "\r\n",
    "    weights.sort()\r\n",
    "\r\n",
    "    def diff(li):\r\n",
    "        n = len(li)\r\n",
    "        diff_li = [0] * (n-1)\r\n",
    "        for i in range(n-1):\r\n",
    "            diff_li[i] = li[i+1] - li[i]\r\n",
    "        return diff_li\r\n",
    "\r\n",
    "    # 再找出来把这些数相加，看看能否得到爷爷要的数\r\n",
    "    ws_diff = diff(weights)\r\n",
    "\r\n",
    "    for val in ask:\r\n",
    "        if val > max(ws_diff):\r\n",
    "            print(-1, -1)\r\n",
    "        else:\r\n",
    "            # 我想找到这其中是否有连续的值相加可以使得这个值\r\n",
    "            # 等于爷爷给的数\r\n",
    "            print(weights[0], weights[1])\r\n",
    "\r\n",
    "import sys \r\n",
    "i = 0\r\n",
    "ask = []\r\n",
    "for line in sys.stdin:\r\n",
    "    values = list(map(int, line.split()))\r\n",
    "    if i == 0:\r\n",
    "        n, m = values\r\n",
    "    elif i == 1:\r\n",
    "        weights = values\r\n",
    "    else:\r\n",
    "        ask.append(values[0])\r\n",
    "    i += 1\r\n",
    "\r\n",
    "tmp = weights\r\n",
    "tmp.sort()\r\n",
    "\r\n",
    "def diff(li):\r\n",
    "    n = len(li)\r\n",
    "    diff_li = [0] * (n-1)\r\n",
    "    for i in range(n-1):\r\n",
    "        diff_li[i] = li[i+1] - li[i]\r\n",
    "    return diff_li\r\n",
    "\r\n",
    "def find_val(li, k):\r\n",
    "    if k > sum(li):\r\n",
    "        print(-1, -1)\r\n",
    "    else:\r\n",
    "        # 我想这里应该是贪心算法\r\n",
    "        # 首先找到最大的那个值，\r\n",
    "        \r\n",
    "\r\n",
    "    "
   ],
   "outputs": [],
   "metadata": {}
  },
  {
   "cell_type": "code",
   "execution_count": 23,
   "source": [
    "import sys \r\n",
    "i = 0\r\n",
    "ask = []\r\n",
    "import math\r\n",
    "def dis(li1, li2):\r\n",
    "    return math.sqrt(sum([(val1-val2)**2 for val1, val2 in zip(li1, li2)]))\r\n",
    "\r\n",
    "# 计算直线与圆的交点\r\n",
    "\r\n",
    "for line in sys.stdin:\r\n",
    "    values = list(map(int, line.split()))\r\n",
    "    R1, X1, Y1, X3, Y3 = values\r\n",
    "    # 首先计算喷管其到(X3, Y3)的距离\r\n",
    "    \r\n"
   ],
   "outputs": [
    {
     "output_type": "execute_result",
     "data": {
      "text/plain": [
       "2.8284271247461903"
      ]
     },
     "metadata": {},
     "execution_count": 23
    }
   ],
   "metadata": {}
  },
  {
   "cell_type": "code",
   "execution_count": 61,
   "source": [
    "# import sys \r\n",
    "# shoes = []\r\n",
    "# for line in sys.stdin:\r\n",
    "#     values = list(map(int, line.split()))\r\n",
    "#     shoes.append(values[0])\r\n",
    "\r\n",
    "# def expect(shoe):\r\n",
    "#     if shoe == 1:\r\n",
    "#         print shoe\r\n",
    "#     else:\r\n",
    "\r\n",
    "# for shoe in shoes:\r\n",
    "    \r\n",
    "\r\n",
    "\r\n",
    "def jc(n):\r\n",
    "    if n == 1:\r\n",
    "        return 1\r\n",
    "    else:\r\n",
    "        return n * jc(n-1)\r\n",
    "\r\n",
    "\r\n",
    "def cc(m, n):\r\n",
    "    # print('what', jc(n) / (jc(m) * jc(n-m)))\r\n",
    "    return jc(n) / (jc(m) * jc(n-m))\r\n",
    "\r\n",
    "def expect(shoe):\r\n",
    "    if shoe == 1:\r\n",
    "        print(shoe)\r\n",
    "    else:\r\n",
    "        prob = 1 - 2 * cc(2, shoe) / cc(2, 2 * shoe)\r\n",
    "        print(prob)\r\n",
    "        print('%.6f'%(prob * shoe))\r\n",
    "expect(4)\r\n"
   ],
   "outputs": [
    {
     "output_type": "stream",
     "name": "stdout",
     "text": [
      "0.5714285714285714\n",
      "2.285714\n"
     ]
    }
   ],
   "metadata": {}
  },
  {
   "cell_type": "code",
   "execution_count": 33,
   "source": [
    "a = {i:i for i in range(3)}\r\n",
    "def twoSum(nums, target):\r\n",
    "    d = dict()\r\n",
    "    for i, v in enumerate(nums):\r\n",
    "        tmp = target - v\r\n",
    "        print(tmp)\r\n",
    "        if d.get(tmp) is not None:\r\n",
    "            return d[tmp], i\r\n",
    "        else:\r\n",
    "            # print(v)\r\n",
    "            d[v] = i\r\n",
    "    return -1, -1\r\n",
    "twoSum([2,7,11,15], 9)"
   ],
   "outputs": [
    {
     "output_type": "stream",
     "name": "stdout",
     "text": [
      "7\n",
      "2\n"
     ]
    },
    {
     "output_type": "execute_result",
     "data": {
      "text/plain": [
       "(0, 1)"
      ]
     },
     "metadata": {},
     "execution_count": 33
    }
   ],
   "metadata": {}
  },
  {
   "cell_type": "code",
   "execution_count": 37,
   "source": [
    "2 % 1000"
   ],
   "outputs": [
    {
     "output_type": "execute_result",
     "data": {
      "text/plain": [
       "2"
      ]
     },
     "metadata": {},
     "execution_count": 37
    }
   ],
   "metadata": {}
  },
  {
   "cell_type": "code",
   "execution_count": 8,
   "source": [
    "import random\r\n",
    "def quick_sort(data, a, b):\r\n",
    "    if not data or a < 0 or b >= len(data):\r\n",
    "        raise ValueError\r\n",
    "    index = random.randint(a, b)\r\n",
    "    print(index)\r\n",
    "    # index = 4\r\n",
    "    data[index], data[b] = data[b], data[index]\r\n",
    "\r\n",
    "    small = a - 1\r\n",
    "    for index in range(b):\r\n",
    "        if data[index] < data[b]:\r\n",
    "            small += 1\r\n",
    "            if small != index:\r\n",
    "                data[small], data[index] = data[index], data[small]\r\n",
    "    \r\n",
    "    small += 1\r\n",
    "    data[small], data[b] = data[b], data[small]\r\n",
    "    print(data)\r\n",
    "    return small\r\n",
    "\r\n",
    "res = quick_sort([1, 9, 8, 3, 4], 0, 4)\r\n",
    "print(res)"
   ],
   "outputs": [
    {
     "output_type": "stream",
     "name": "stdout",
     "text": [
      "2\n",
      "[1, 4, 3, 8, 9]\n",
      "3\n"
     ]
    }
   ],
   "metadata": {}
  }
 ]
}